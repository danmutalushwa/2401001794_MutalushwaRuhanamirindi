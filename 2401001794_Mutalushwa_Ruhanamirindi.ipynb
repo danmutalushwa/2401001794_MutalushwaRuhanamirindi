{
  "nbformat": 4,
  "nbformat_minor": 0,
  "metadata": {
    "colab": {
      "provenance": []
    },
    "kernelspec": {
      "name": "python3",
      "display_name": "Python 3"
    },
    "language_info": {
      "name": "python"
    }
  },
  "cells": [
    {
      "cell_type": "code",
      "execution_count": 12,
      "metadata": {
        "colab": {
          "base_uri": "https://localhost:8080/"
        },
        "id": "_2X-IDscPeQ8",
        "outputId": "5374d2ec-d688-4a90-c30e-7d2771bad0aa"
      },
      "outputs": [
        {
          "output_type": "stream",
          "name": "stdout",
          "text": [
            "Requirement already satisfied: requests in /usr/local/lib/python3.11/dist-packages (2.32.3)\n",
            "Requirement already satisfied: charset-normalizer<4,>=2 in /usr/local/lib/python3.11/dist-packages (from requests) (3.4.2)\n",
            "Requirement already satisfied: idna<4,>=2.5 in /usr/local/lib/python3.11/dist-packages (from requests) (3.10)\n",
            "Requirement already satisfied: urllib3<3,>=1.21.1 in /usr/local/lib/python3.11/dist-packages (from requests) (2.4.0)\n",
            "Requirement already satisfied: certifi>=2017.4.17 in /usr/local/lib/python3.11/dist-packages (from requests) (2025.7.9)\n"
          ]
        }
      ],
      "source": [
        "import requests\n",
        "import json\n",
        "\n",
        "!pip install requests"
      ]
    },
    {
      "cell_type": "code",
      "source": [],
      "metadata": {
        "id": "Kj-oUtoScfzv"
      },
      "execution_count": null,
      "outputs": []
    },
    {
      "cell_type": "code",
      "source": [
        "result = requests.get('http://api.stackexchange.com/2.3/questions?order=desc&sort=activity&site=stackoverflow')\n",
        "print (result)"
      ],
      "metadata": {
        "colab": {
          "base_uri": "https://localhost:8080/"
        },
        "id": "3_bYrrT9bUR6",
        "outputId": "794039ac-4304-4829-c2e0-fd822bea79a2"
      },
      "execution_count": 17,
      "outputs": [
        {
          "output_type": "stream",
          "name": "stdout",
          "text": [
            "<Response [200]>\n"
          ]
        }
      ]
    },
    {
      "cell_type": "code",
      "source": [
        "print (result.json())"
      ],
      "metadata": {
        "colab": {
          "base_uri": "https://localhost:8080/"
        },
        "id": "Z24NwweEdBto",
        "outputId": "7603de7d-a1bb-471f-803f-50d4de42d064"
      },
      "execution_count": 18,
      "outputs": [
        {
          "output_type": "stream",
          "name": "stdout",
          "text": [
            "{'items': [{'tags': ['javascript', 'epub'], 'owner': {'account_id': 42998075, 'reputation': 1, 'user_id': 31025023, 'user_type': 'registered', 'profile_image': 'https://www.gravatar.com/avatar/166b43ddd129f2ba03b8b7ae8f8a69a5?s=256&d=identicon&r=PG&f=y&so-version=2', 'display_name': 'user31025023', 'link': 'https://stackoverflow.com/users/31025023/user31025023'}, 'is_answered': False, 'view_count': 8, 'answer_count': 0, 'score': -1, 'last_activity_date': 1752320744, 'creation_date': 1752319886, 'last_edit_date': 1752320744, 'question_id': 79699232, 'content_license': 'CC BY-SA 4.0', 'link': 'https://stackoverflow.com/questions/79699232/extracting-visible-text-from-an-epub-viewer-using-epubjs', 'title': 'Extracting visible text from an epub viewer using epubjs'}, {'tags': ['python', 'visual-studio-code', 'git-bash', 'python-poetry', 'oh-my-posh'], 'owner': {'account_id': 14918248, 'reputation': 137, 'user_id': 10771401, 'user_type': 'registered', 'profile_image': 'https://lh6.googleusercontent.com/-hxpc0zC2Lu8/AAAAAAAAAAI/AAAAAAAABQM/RxpBzzp79fE/s256-rj/photo.jpg', 'display_name': 'Buzz B', 'link': 'https://stackoverflow.com/users/10771401/buzz-b'}, 'is_answered': False, 'view_count': 2, 'answer_count': 0, 'score': 0, 'last_activity_date': 1752320697, 'creation_date': 1752320697, 'question_id': 79699240, 'content_license': 'CC BY-SA 4.0', 'link': 'https://stackoverflow.com/questions/79699240/vs-code-python-extension-injects-incorrect-start-up-script-oh-my-posh-variables', 'title': 'VS Code Python extension injects incorrect start up script oh-my-posh variables with shell integration'}, {'tags': ['c#', 'asynchronous', 'async-await'], 'owner': {'account_id': 5032545, 'reputation': 155, 'user_id': 6225921, 'user_type': 'registered', 'profile_image': 'https://www.gravatar.com/avatar/56f3cc2463b7b25f4254e19fc811565a?s=256&d=identicon&r=PG', 'display_name': 'chuackt', 'link': 'https://stackoverflow.com/users/6225921/chuackt'}, 'is_answered': False, 'view_count': 19, 'answer_count': 0, 'score': 0, 'last_activity_date': 1752320617, 'creation_date': 1752319111, 'last_edit_date': 1752320617, 'question_id': 79699227, 'content_license': 'CC BY-SA 4.0', 'link': 'https://stackoverflow.com/questions/79699227/is-the-finish-awaited-process-executed-using-multi-thread-or-interrupt-function', 'title': 'Is the finish awaited process executed using multi thread or interrupt function in this scenario'}, {'tags': ['typescript'], 'owner': {'account_id': 23262130, 'reputation': 873, 'user_id': 17348251, 'user_type': 'registered', 'profile_image': 'https://www.gravatar.com/avatar/d2e6e7ec585bd043b4621bdf6fe93dd2?s=256&d=identicon&r=PG', 'display_name': 'Pawan', 'link': 'https://stackoverflow.com/users/17348251/pawan'}, 'is_answered': False, 'view_count': 28, 'answer_count': 0, 'score': -3, 'last_activity_date': 1752320504, 'creation_date': 1752314645, 'last_edit_date': 1752320504, 'question_id': 79699180, 'content_license': 'CC BY-SA 4.0', 'link': 'https://stackoverflow.com/questions/79699180/type-checking-in-vite-react-project-why-do-i-need-tsc-when-tsserver-is-already', 'title': 'Type Checking in Vite/React Project: Why do I need tsc when tsserver is already working?'}, {'tags': ['django', 'django-models'], 'owner': {'account_id': 20432284, 'reputation': 11, 'user_id': 14990955, 'user_type': 'registered', 'profile_image': 'https://www.gravatar.com/avatar/a634b00248151f6909211de1dfe32637?s=256&d=identicon&r=PG&f=y&so-version=2', 'display_name': 'dAlexis', 'link': 'https://stackoverflow.com/users/14990955/dalexis'}, 'is_answered': False, 'view_count': 7, 'answer_count': 1, 'score': 0, 'last_activity_date': 1752320447, 'creation_date': 1752320194, 'question_id': 79699235, 'content_license': 'CC BY-SA 4.0', 'link': 'https://stackoverflow.com/questions/79699235/django-cannot-create-record-with-correct-foreign-key-to-charfield-with-spaces-in', 'title': 'Django cannot create record with correct foreign key to CharField with spaces in middle - getting surrounded by single and double quotes like &quot;&#39;a a&#39;&quot;'}, {'tags': ['python', 'numpy', 'data-cleaning', 'outliers', 'data-preprocessing'], 'owner': {'account_id': 40474849, 'reputation': 9, 'user_id': 29798592, 'user_type': 'registered', 'profile_image': 'https://www.gravatar.com/avatar/8e0d0817f1967f58e7e33e5204929616?s=256&d=identicon&r=PG&f=y&so-version=2', 'display_name': 'Maor Barzilay', 'link': 'https://stackoverflow.com/users/29798592/maor-barzilay'}, 'is_answered': False, 'view_count': 8, 'answer_count': 0, 'score': -1, 'last_activity_date': 1752320411, 'creation_date': 1752320333, 'last_edit_date': 1752320411, 'question_id': 79699237, 'content_license': 'CC BY-SA 4.0', 'link': 'https://stackoverflow.com/questions/79699237/how-to-properly-remove-outliers-in-sensor-data', 'title': 'How to properly remove outliers in sensor data?'}, {'tags': ['python', 'machine-learning', 'artificial-intelligence'], 'owner': {'account_id': 42998235, 'reputation': 1, 'user_id': 31025101, 'user_type': 'registered', 'profile_image': 'https://www.gravatar.com/avatar/da88d8e48c1f5f67324eb70f295c23c3?s=256&d=identicon&r=PG&f=y&so-version=2', 'display_name': 'John Paul Hilson', 'link': 'https://stackoverflow.com/users/31025101/john-paul-hilson'}, 'is_answered': False, 'view_count': 9, 'answer_count': 0, 'score': -2, 'last_activity_date': 1752320346, 'creation_date': 1752320346, 'question_id': 79699238, 'content_license': 'CC BY-SA 4.0', 'link': 'https://stackoverflow.com/questions/79699238/is-there-any-possible-way-of-using-gpu-for-ai-ml-purposes-in-laptops-which-dont', 'title': 'Is there any possible way of using gpu for AI/ML purposes in laptops which dont have nvidia chip set or any other alternative way?'}, {'tags': ['java', 'awt'], 'owner': {'account_id': 37604239, 'reputation': 1, 'user_id': 28332552, 'user_type': 'registered', 'profile_image': 'https://www.gravatar.com/avatar/5a84dbd7a917124e895a66d1b7b38d61?s=256&d=identicon&r=PG&f=y&so-version=2', 'display_name': 'Lucy', 'link': 'https://stackoverflow.com/users/28332552/lucy'}, 'is_answered': False, 'view_count': 39, 'closed_date': 1752283915, 'answer_count': 0, 'score': -5, 'last_activity_date': 1752320239, 'creation_date': 1752272171, 'last_edit_date': 1752320239, 'question_id': 79698880, 'link': 'https://stackoverflow.com/questions/79698880/java-awt-textarea-messes-up-the-window-size', 'closed_reason': 'Not suitable for this site', 'title': 'Java awt TextArea messes up the window size'}, {'tags': ['python', 'semantic-kernel'], 'owner': {'account_id': 11787459, 'reputation': 1, 'user_id': 8624641, 'user_type': 'registered', 'profile_image': 'https://www.gravatar.com/avatar/4d1215cd7e7bf5403f244522a8675214?s=256&d=identicon&r=PG&f=y&so-version=2', 'display_name': 'ranjan srivastav', 'link': 'https://stackoverflow.com/users/8624641/ranjan-srivastav'}, 'is_answered': False, 'view_count': 27, 'answer_count': 0, 'score': -1, 'last_activity_date': 1752320102, 'creation_date': 1752283636, 'last_edit_date': 1752320102, 'question_id': 79698941, 'content_license': 'CC BY-SA 4.0', 'link': 'https://stackoverflow.com/questions/79698941/not-able-to-call-fastmcp-server-using-http-or-sse-protocol', 'title': 'Not able to call FastMCP server using http or SSE protocol'}, {'tags': ['docker', 'kubernetes', 'amazon-ecr', 'argo-workflows', 'argo'], 'owner': {'account_id': 21219170, 'reputation': 23, 'user_id': 15606163, 'user_type': 'registered', 'profile_image': 'https://www.gravatar.com/avatar/255a11bc93d596ec2306ca897fb899b3?s=256&d=identicon&r=PG&f=y&so-version=2', 'display_name': 'rewa', 'link': 'https://stackoverflow.com/users/15606163/rewa'}, 'is_answered': False, 'view_count': 5, 'answer_count': 0, 'score': 0, 'last_activity_date': 1752320050, 'creation_date': 1752320050, 'question_id': 79699234, 'content_license': 'CC BY-SA 4.0', 'link': 'https://stackoverflow.com/questions/79699234/why-argoworkflows-multi-app-docker-build-image-with-kaniko-fails', 'title': 'why Argoworkflows multi-app-docker-build image with kaniko fails'}, {'tags': ['vue.js', 'vuejs3'], 'owner': {'account_id': 14929290, 'reputation': 541, 'user_id': 10779129, 'user_type': 'registered', 'profile_image': 'https://www.gravatar.com/avatar/de5f77a69d67c235fd9e60bc3b02a794?s=256&d=identicon&r=PG&f=y&so-version=2', 'display_name': 'kcsujeet', 'link': 'https://stackoverflow.com/users/10779129/kcsujeet'}, 'is_answered': True, 'view_count': 606, 'accepted_answer_id': 77952233, 'answer_count': 2, 'score': 1, 'last_activity_date': 1752320006, 'creation_date': 1707270159, 'question_id': 77951785, 'content_license': 'CC BY-SA 4.0', 'link': 'https://stackoverflow.com/questions/77951785/getting-write-operation-failed-warning-with-refs', 'title': 'Getting write operation failed warning with refs'}, {'tags': ['visual-studio-code'], 'owner': {'account_id': 28245515, 'reputation': 41, 'user_id': 21592632, 'user_type': 'registered', 'profile_image': 'https://lh3.googleusercontent.com/a/AGNmyxafc1L_U5dJ6Ab9QA2bTYLnAySRHTTGKR51YEkr=k-s256', 'display_name': 'Charles Wetaski', 'link': 'https://stackoverflow.com/users/21592632/charles-wetaski'}, 'is_answered': True, 'view_count': 1041, 'answer_count': 2, 'score': 4, 'last_activity_date': 1752319961, 'creation_date': 1733931521, 'last_edit_date': 1734429979, 'question_id': 79272316, 'content_license': 'CC BY-SA 4.0', 'link': 'https://stackoverflow.com/questions/79272316/cleaning-vscode-profiles-folder-workspaces', 'title': 'Cleaning VSCode profiles Folder &amp; Workspaces'}, {'tags': ['javascript', 'ecmascript-6', 'es6-modules', 'mapbox-gl-js'], 'owner': {'account_id': 2343898, 'reputation': 1055, 'user_id': 2054640, 'user_type': 'registered', 'accept_rate': 68, 'profile_image': 'https://www.gravatar.com/avatar/ad24225c455802845bbededaea229b8b?s=256&d=identicon&r=PG', 'display_name': 'PSZ_Code', 'link': 'https://stackoverflow.com/users/2054640/psz-code'}, 'is_answered': False, 'view_count': 4, 'answer_count': 0, 'score': 0, 'last_activity_date': 1752319849, 'creation_date': 1752319849, 'question_id': 79699231, 'content_license': 'CC BY-SA 4.0', 'link': 'https://stackoverflow.com/questions/79699231/import-module-installed-with-npm-without-node-js', 'title': 'Import module installed with npm without node.js'}, {'tags': ['javascript', 'reactjs', 'components'], 'owner': {'account_id': 34374199, 'reputation': 11, 'user_id': 26535772, 'user_type': 'registered', 'profile_image': 'https://www.gravatar.com/avatar/2bf503c25a99c36927066a0fd6468bc7?s=256&d=identicon&r=PG&f=y&so-version=2', 'display_name': 'asfreeman18', 'link': 'https://stackoverflow.com/users/26535772/asfreeman18'}, 'is_answered': True, 'view_count': 106, 'answer_count': 2, 'score': -2, 'last_activity_date': 1752319736, 'creation_date': 1750488836, 'last_edit_date': 1752095654, 'question_id': 79674218, 'content_license': 'CC BY-SA 4.0', 'link': 'https://stackoverflow.com/questions/79674218/how-to-prevent-filtered-component-from-re-rendering-over-and-over', 'title': 'How to prevent filtered component from re-rendering over and over?'}, {'tags': ['python', 'google-colaboratory', 'fast-ai'], 'owner': {'account_id': 10352047, 'reputation': 21, 'user_id': 7635193, 'user_type': 'registered', 'profile_image': 'https://www.gravatar.com/avatar/7680fa3169fa7b3d88b22cc5b1ad6827?s=256&d=identicon&r=PG&f=y&so-version=2', 'display_name': 'nish', 'link': 'https://stackoverflow.com/users/7635193/nish'}, 'is_answered': False, 'view_count': 22, 'answer_count': 1, 'score': 0, 'last_activity_date': 1752319717, 'creation_date': 1752253866, 'last_edit_date': 1752319443, 'question_id': 79698656, 'content_license': 'CC BY-SA 4.0', 'link': 'https://stackoverflow.com/questions/79698656/cannot-load-fastai-pkl-model-locally-due-to-missing-ampmode-and-module-version', 'title': 'Cannot load FastAI .pkl model locally due to missing AMPMode and module version issues'}, {'tags': ['sas', 'sum', 'lag', 'lead'], 'owner': {'account_id': 42578194, 'reputation': 3, 'user_id': 30820023, 'user_type': 'registered', 'profile_image': 'https://www.gravatar.com/avatar/7acede563f25d89377f525daec0c25aa?s=256&d=identicon&r=PG&f=y&so-version=2', 'display_name': 'Arch', 'link': 'https://stackoverflow.com/users/30820023/arch'}, 'is_answered': False, 'view_count': 32, 'answer_count': 2, 'score': 0, 'last_activity_date': 1752319536, 'creation_date': 1752129532, 'question_id': 79696592, 'content_license': 'CC BY-SA 4.0', 'link': 'https://stackoverflow.com/questions/79696592/sas-conditionally-summing-a-column-without-having-the-lead-funtion', 'title': 'SAS: Conditionally summing a column without having the lead funtion'}, {'tags': ['python', 'django', 'pdf', 'celery', 'docx'], 'owner': {'account_id': 29959444, 'reputation': 11, 'user_id': 22959562, 'user_type': 'registered', 'profile_image': 'https://www.gravatar.com/avatar/462533d96ee5488bd232827703fc53a0?s=256&d=identicon&r=PG&f=y&so-version=2', 'display_name': 'Just_Coder14', 'link': 'https://stackoverflow.com/users/22959562/just-coder14'}, 'is_answered': False, 'view_count': 46, 'answer_count': 0, 'score': 0, 'last_activity_date': 1752319503, 'creation_date': 1752221209, 'last_edit_date': 1752319503, 'question_id': 79698019, 'content_license': 'CC BY-SA 4.0', 'link': 'https://stackoverflow.com/questions/79698019/will-requests-to-my-site-lag-and-work-slowly-in-django-while-waiting-for-celery', 'title': 'Will requests to my site lag and work slowly in django while waiting for celery results?'}, {'tags': ['php', 'codeigniter', 'where-clause', 'query-builder'], 'owner': {'account_id': 568398, 'reputation': 97, 'user_id': 200141, 'user_type': 'unregistered', 'profile_image': 'https://www.gravatar.com/avatar/f423dacd8998c13a22d5f63d55142089?s=256&d=identicon&r=PG', 'display_name': 'Kees', 'link': 'https://stackoverflow.com/users/200141/kees'}, 'is_answered': True, 'view_count': 4787, 'closed_date': 1752319529, 'accepted_answer_id': 1654800, 'answer_count': 1, 'score': 1, 'last_activity_date': 1752319498, 'creation_date': 1257004502, 'last_edit_date': 1752319498, 'question_id': 1654778, 'link': 'https://stackoverflow.com/questions/1654778/codeigniter-unknown-column-xxx-in-where-clause', 'closed_reason': 'Not suitable for this site', 'title': 'CodeIgniter: Unknown column xxx in ‘where clause’'}, {'tags': ['python'], 'owner': {'account_id': 42675212, 'reputation': 1, 'user_id': 30867073, 'user_type': 'registered', 'profile_image': 'https://www.gravatar.com/avatar/454438688e9bf9ca1b3e19a858df8c1f?s=256&d=identicon&r=PG&f=y&so-version=2', 'display_name': 'Song', 'link': 'https://stackoverflow.com/users/30867073/song'}, 'is_answered': False, 'view_count': 39, 'closed_date': 1752315894, 'answer_count': 0, 'score': -5, 'last_activity_date': 1752319463, 'creation_date': 1752313120, 'last_edit_date': 1752319463, 'question_id': 79699163, 'link': 'https://stackoverflow.com/questions/79699163/how-to-use-relative-path-to-get-file-in-c-drive-but-the-current-program-file-is', 'closed_reason': 'Not suitable for this site', 'title': 'How to use relative path to get file in C drive but the current program file is in D drive?'}, {'tags': ['list', 'cmake', 'macros', 'set', 'expansion'], 'owner': {'account_id': 12684651, 'reputation': 657, 'user_id': 9216943, 'user_type': 'registered', 'profile_image': 'https://lh6.googleusercontent.com/-Vq8ii5GQCKw/AAAAAAAAAAI/AAAAAAAAAU4/Q-nW6SPnbc4/s256-rj/photo.jpg', 'display_name': 'Zach ', 'link': 'https://stackoverflow.com/users/9216943/zach'}, 'is_answered': False, 'view_count': 36, 'closed_date': 1752174531, 'answer_count': 0, 'score': 0, 'last_activity_date': 1752319439, 'creation_date': 1751932622, 'last_edit_date': 1752319439, 'question_id': 79693529, 'link': 'https://stackoverflow.com/questions/79693529/why-does-this-cmake-list-variable-expansion-not-behave-as-expected', 'closed_reason': 'Not suitable for this site', 'title': 'Why does this CMake list variable expansion not behave as expected?'}, {'tags': ['javascript', 'vue.js', 'dom', 'frontend', 'vuejs3'], 'owner': {'account_id': 28296527, 'reputation': 1, 'user_id': 21635904, 'user_type': 'registered', 'profile_image': 'https://www.gravatar.com/avatar/b3f7fe3e201c45ae9f1d31b9f91ad0f2?s=256&d=identicon&r=PG&f=y&so-version=2', 'display_name': 'Nicolas2099', 'link': 'https://stackoverflow.com/users/21635904/nicolas2099'}, 'is_answered': True, 'view_count': 79, 'accepted_answer_id': 77667295, 'answer_count': 1, 'score': -1, 'last_activity_date': 1752319364, 'creation_date': 1702646778, 'question_id': 77666567, 'content_license': 'CC BY-SA 4.0', 'link': 'https://stackoverflow.com/questions/77666567/vue-data-isnt-displayed-on-a-page', 'title': 'vue data isn`t displayed on a page'}, {'tags': ['server', 'proxy', 'reverse-proxy', 'haproxy'], 'owner': {'account_id': 22630572, 'reputation': 35, 'user_id': 16808004, 'user_type': 'registered', 'profile_image': 'https://www.gravatar.com/avatar/a950633facb514126db7b83d30bb5aa5?s=256&d=identicon&r=PG&f=y&so-version=2', 'display_name': 'ashduino101', 'link': 'https://stackoverflow.com/users/16808004/ashduino101'}, 'is_answered': False, 'view_count': 16, 'answer_count': 1, 'score': 0, 'last_activity_date': 1752319086, 'creation_date': 1751934855, 'question_id': 79693542, 'content_license': 'CC BY-SA 4.0', 'link': 'https://stackoverflow.com/questions/79693542/is-it-possible-to-route-traffic-through-another-server-with-haproxy', 'title': 'Is it possible to route traffic through another server with HAProxy?'}, {'tags': ['binding', 'model', 'controller', 'sapui5'], 'owner': {'account_id': 4446456, 'reputation': 281, 'user_id': 3619598, 'user_type': 'registered', 'accept_rate': 29, 'profile_image': 'https://www.gravatar.com/avatar/e081ce0890a17e9aa8f4f05207770d68?s=256&d=identicon&r=PG&f=y&so-version=2', 'display_name': 'Simo03', 'link': 'https://stackoverflow.com/users/3619598/simo03'}, 'is_answered': True, 'view_count': 3909, 'answer_count': 1, 'score': 0, 'last_activity_date': 1752318949, 'creation_date': 1491240290, 'last_edit_date': 1491298844, 'question_id': 43190746, 'content_license': 'CC BY-SA 3.0', 'link': 'https://stackoverflow.com/questions/43190746/get-model-in-the-controller', 'title': 'Get model in the controller'}, {'tags': ['php', 'visual-studio-code', 'laragon', 'liveserver'], 'owner': {'account_id': 3014871, 'reputation': 11, 'user_id': 3142604, 'user_type': 'registered', 'profile_image': 'https://www.gravatar.com/avatar/b17b524b9604f851db8826f56393f2f0?s=256&d=identicon&r=PG', 'display_name': 'Jacob', 'link': 'https://stackoverflow.com/users/3142604/jacob'}, 'is_answered': False, 'view_count': 18, 'answer_count': 1, 'score': 0, 'last_activity_date': 1752318937, 'creation_date': 1752316298, 'question_id': 79699197, 'content_license': 'CC BY-SA 4.0', 'link': 'https://stackoverflow.com/questions/79699197/laragon-visual-studio-php-server-live-server-live-server-web-extension-not', 'title': 'Laragon + Visual Studio Php Server &amp; Live Server + Live Server Web Extension Not Auto-Reloading Together'}, {'tags': ['firefox', 'visual-c++', 'firefox-addon', 'xpcom'], 'owner': {'account_id': 2545182, 'reputation': 277, 'user_id': 2210121, 'user_type': 'registered', 'profile_image': 'https://www.gravatar.com/avatar/4f18bf0e19f80009751c524c63ab6a3f?s=256&d=identicon&r=PG', 'display_name': 'debanka', 'link': 'https://stackoverflow.com/users/2210121/debanka'}, 'is_answered': False, 'view_count': 524, 'answer_count': 0, 'score': 1, 'last_activity_date': 1752318932, 'creation_date': 1428657322, 'last_edit_date': 1752318932, 'question_id': 29557642, 'content_license': 'CC BY-SA 4.0', 'link': 'https://stackoverflow.com/questions/29557642/get-the-url-from-mozilla-firefox', 'title': 'Get the url from mozilla firefox'}, {'tags': ['javascript', 'jquery', 'asp.net-mvc', 'firefox'], 'owner': {'account_id': 4171233, 'reputation': 2116, 'user_id': 3418949, 'user_type': 'registered', 'accept_rate': 36, 'profile_image': 'https://i.sstatic.net/5BYeG.jpg?s=256', 'display_name': 'Olegs Jasjko', 'link': 'https://stackoverflow.com/users/3418949/olegs-jasjko'}, 'is_answered': False, 'view_count': 150, 'answer_count': 3, 'score': 0, 'last_activity_date': 1752318927, 'creation_date': 1428562444, 'last_edit_date': 1752318927, 'question_id': 29531727, 'content_license': 'CC BY-SA 4.0', 'link': 'https://stackoverflow.com/questions/29531727/jquery-hide-not-work-on-mozzila-but-works-on-chrome', 'title': 'JQuery hide() not work on Mozzila but works on Chrome'}, {'tags': ['javascript', 'firefox', 'firefox-addon'], 'owner': {'account_id': 5192087, 'reputation': 83, 'user_id': 4154714, 'user_type': 'registered', 'accept_rate': 0, 'profile_image': 'https://www.gravatar.com/avatar/83ecd05bed3661ee6eade12d8c226816?s=256&d=identicon&r=PG&f=y&so-version=2', 'display_name': 'Pawelsar1', 'link': 'https://stackoverflow.com/users/4154714/pawelsar1'}, 'is_answered': False, 'view_count': 11365, 'answer_count': 1, 'score': 2, 'last_activity_date': 1752318926, 'creation_date': 1429056204, 'last_edit_date': 1752318926, 'question_id': 29639448, 'content_license': 'CC BY-SA 4.0', 'link': 'https://stackoverflow.com/questions/29639448/inject-javascript-in-firefox', 'title': 'Inject Javascript in Firefox'}, {'tags': ['c#', 'web-applications', 'asp.net-core-webapi', '.net-8.0'], 'owner': {'account_id': 84265, 'reputation': 19052, 'user_id': 235671, 'user_type': 'registered', 'accept_rate': 81, 'profile_image': 'https://i.sstatic.net/xKXSM.png?s=256', 'display_name': 't3chb0t', 'link': 'https://stackoverflow.com/users/235671/t3chb0t'}, 'is_answered': False, 'view_count': 24, 'answer_count': 0, 'score': 0, 'last_activity_date': 1752318925, 'creation_date': 1752311910, 'last_edit_date': 1752318925, 'question_id': 79699143, 'content_license': 'CC BY-SA 4.0', 'link': 'https://stackoverflow.com/questions/79699143/refactoring-minimal-web-application-pattern-into-classic-full-program-cs-with-ma', 'title': 'Refactoring minimal web application pattern into classic full Program.cs with main'}, {'tags': ['javascript', 'firefox', 'firefox-addon', 'xpi'], 'owner': {'account_id': 148035, 'reputation': 333, 'user_id': 359525, 'user_type': 'registered', 'accept_rate': 20, 'profile_image': 'https://www.gravatar.com/avatar/5b6564d1d1e036811ba32426634905ab?s=256&d=identicon&r=PG', 'display_name': 'Bear of the Year', 'link': 'https://stackoverflow.com/users/359525/bear-of-the-year'}, 'is_answered': True, 'view_count': 1764, 'answer_count': 1, 'score': 14, 'last_activity_date': 1752318920, 'creation_date': 1429809375, 'last_edit_date': 1752318920, 'question_id': 29830253, 'content_license': 'CC BY-SA 4.0', 'link': 'https://stackoverflow.com/questions/29830253/firefox-addon-inline-installation-from-website', 'title': 'Firefox addon inline installation from website'}, {'tags': ['android', 'firefox', 'build', 'fennec'], 'owner': {'account_id': 2365132, 'reputation': 3, 'user_id': 2070939, 'user_type': 'registered', 'profile_image': 'https://www.gravatar.com/avatar/bfc515613ef6f7724c29c9317087d8e2?s=256&d=identicon&r=PG', 'display_name': 'Arrival Sentosa', 'link': 'https://stackoverflow.com/users/2070939/arrival-sentosa'}, 'is_answered': True, 'view_count': 284, 'accepted_answer_id': 31519663, 'answer_count': 1, 'score': 0, 'last_activity_date': 1752318919, 'creation_date': 1429791958, 'last_edit_date': 1752318919, 'question_id': 29823431, 'content_license': 'CC BY-SA 4.0', 'link': 'https://stackoverflow.com/questions/29823431/cant-mach-build-fennec-for-android', 'title': 'Can&#39;t mach build Fennec for Android'}], 'has_more': True, 'quota_max': 300, 'quota_remaining': 299}\n"
          ]
        }
      ]
    },
    {
      "cell_type": "code",
      "source": [
        "for question in result.json() ['items']:\n",
        "  if question['answer_count'] == 0:\n",
        "    print (question['title'])\n",
        "    print(question['link'])\n",
        "  else:\n",
        "    print (\"skipped\")\n",
        "    print()"
      ],
      "metadata": {
        "colab": {
          "base_uri": "https://localhost:8080/"
        },
        "id": "hDJdNhOldHDt",
        "outputId": "d21e5f17-ceb4-496d-b4ac-bc63cb0580f6"
      },
      "execution_count": 23,
      "outputs": [
        {
          "output_type": "stream",
          "name": "stdout",
          "text": [
            "Extracting visible text from an epub viewer using epubjs\n",
            "https://stackoverflow.com/questions/79699232/extracting-visible-text-from-an-epub-viewer-using-epubjs\n",
            "VS Code Python extension injects incorrect start up script oh-my-posh variables with shell integration\n",
            "https://stackoverflow.com/questions/79699240/vs-code-python-extension-injects-incorrect-start-up-script-oh-my-posh-variables\n",
            "Is the finish awaited process executed using multi thread or interrupt function in this scenario\n",
            "https://stackoverflow.com/questions/79699227/is-the-finish-awaited-process-executed-using-multi-thread-or-interrupt-function\n",
            "Type Checking in Vite/React Project: Why do I need tsc when tsserver is already working?\n",
            "https://stackoverflow.com/questions/79699180/type-checking-in-vite-react-project-why-do-i-need-tsc-when-tsserver-is-already\n",
            "skipped\n",
            "\n",
            "How to properly remove outliers in sensor data?\n",
            "https://stackoverflow.com/questions/79699237/how-to-properly-remove-outliers-in-sensor-data\n",
            "Is there any possible way of using gpu for AI/ML purposes in laptops which dont have nvidia chip set or any other alternative way?\n",
            "https://stackoverflow.com/questions/79699238/is-there-any-possible-way-of-using-gpu-for-ai-ml-purposes-in-laptops-which-dont\n",
            "Java awt TextArea messes up the window size\n",
            "https://stackoverflow.com/questions/79698880/java-awt-textarea-messes-up-the-window-size\n",
            "Not able to call FastMCP server using http or SSE protocol\n",
            "https://stackoverflow.com/questions/79698941/not-able-to-call-fastmcp-server-using-http-or-sse-protocol\n",
            "why Argoworkflows multi-app-docker-build image with kaniko fails\n",
            "https://stackoverflow.com/questions/79699234/why-argoworkflows-multi-app-docker-build-image-with-kaniko-fails\n",
            "skipped\n",
            "\n",
            "skipped\n",
            "\n",
            "Import module installed with npm without node.js\n",
            "https://stackoverflow.com/questions/79699231/import-module-installed-with-npm-without-node-js\n",
            "skipped\n",
            "\n",
            "skipped\n",
            "\n",
            "skipped\n",
            "\n",
            "Will requests to my site lag and work slowly in django while waiting for celery results?\n",
            "https://stackoverflow.com/questions/79698019/will-requests-to-my-site-lag-and-work-slowly-in-django-while-waiting-for-celery\n",
            "skipped\n",
            "\n",
            "How to use relative path to get file in C drive but the current program file is in D drive?\n",
            "https://stackoverflow.com/questions/79699163/how-to-use-relative-path-to-get-file-in-c-drive-but-the-current-program-file-is\n",
            "Why does this CMake list variable expansion not behave as expected?\n",
            "https://stackoverflow.com/questions/79693529/why-does-this-cmake-list-variable-expansion-not-behave-as-expected\n",
            "skipped\n",
            "\n",
            "skipped\n",
            "\n",
            "skipped\n",
            "\n",
            "skipped\n",
            "\n",
            "Get the url from mozilla firefox\n",
            "https://stackoverflow.com/questions/29557642/get-the-url-from-mozilla-firefox\n",
            "skipped\n",
            "\n",
            "skipped\n",
            "\n",
            "Refactoring minimal web application pattern into classic full Program.cs with main\n",
            "https://stackoverflow.com/questions/79699143/refactoring-minimal-web-application-pattern-into-classic-full-program-cs-with-ma\n",
            "skipped\n",
            "\n",
            "skipped\n",
            "\n"
          ]
        }
      ]
    }
  ]
}